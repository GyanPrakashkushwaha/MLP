{
 "cells": [
  {
   "cell_type": "code",
   "execution_count": 3,
   "metadata": {},
   "outputs": [],
   "source": [
    "import numpy as np\n",
    "import matplotlib.pyplot as plt\n",
    "import pandas as pd\n",
    "import seaborn as sns\n",
    "sns.set_theme(style='whitegrid')"
   ]
  },
  {
   "cell_type": "code",
   "execution_count": 1,
   "metadata": {},
   "outputs": [
    {
     "data": {
      "text/plain": [
       "66"
      ]
     },
     "execution_count": 1,
     "metadata": {},
     "output_type": "execute_result"
    }
   ],
   "source": [
    "len(\"\"\"I have been working hard to learn new skills and secure an internship, but my family's income is 36000 INR, so my family has somehow managed to pay my tuition fee. I am interested in learning about AI, but the fee is not affordable for me. If I receive the scholarship, I will be able to study AI through Microsoft Cloud AI and pursue an internship.\"\"\".split())"
   ]
  },
  {
   "cell_type": "markdown",
   "metadata": {},
   "source": [
    "When performing **Exploratory Data Analysis (EDA)** on a **numerical feature** using **univariate analysis**, you should study the following aspects:  \n",
    "\n",
    "### **1. Summary Statistics**  \n",
    "- **Count** (Number of observations)  \n",
    "- **Mean** (Average value)  \n",
    "- **Median** (Middle value)  \n",
    "- **Mode** (Most frequently occurring value)  \n",
    "- **Standard Deviation** (Spread of the data)  \n",
    "- **Variance** (Measure of dispersion)  \n",
    "- **Range** (Max - Min)  \n",
    "- **Minimum & Maximum values**  \n",
    "- **Interquartile Range (IQR)** (Q3 - Q1, helps detect outliers)  \n",
    "\n",
    "### **2. Distribution Analysis**  \n",
    "- **Histogram** (To see the shape of the distribution)  \n",
    "- **Box Plot** (To detect outliers and spread)  \n",
    "- **Density Plot (KDE Plot)** (For smooth probability distribution)  \n",
    "- **Q-Q Plot** (To check normality of data)  \n",
    "\n",
    "### **3. Skewness & Kurtosis**  \n",
    "- **Skewness** (Indicates if the data is symmetric or skewed)  \n",
    "  - **Positive Skew:** Tail on the right  \n",
    "  - **Negative Skew:** Tail on the left  \n",
    "- **Kurtosis** (Tells whether the data has heavy or light tails compared to a normal distribution)  \n",
    "\n",
    "### **4. Outlier Detection**  \n",
    "- **Using IQR Method** (Outliers = values below Q1 - 1.5*IQR or above Q3 + 1.5*IQR)  \n",
    "- **Using Z-score** (Values beyond ±3 standard deviations)  \n",
    "- **Boxplot visualization**  \n",
    "\n",
    "### **5. Missing Values & Imputation**  \n",
    "- **Count of missing values**  \n",
    "- **Percentage of missing values**  \n",
    "- **Strategies to handle missing values:**  \n",
    "  - Mean/Median Imputation  \n",
    "  - Forward Fill / Backward Fill  \n",
    "  - Dropping missing values (if necessary)  \n",
    "\n",
    "### **6. Transformations (if needed)**  \n",
    "- **Log Transformation** (For right-skewed data)  \n",
    "- **Square Root Transformation**  \n",
    "- **Power Transformation (Box-Cox or Yeo-Johnson)**  \n",
    "- **Standardization & Normalization** (If needed for further analysis)  \n",
    "\n",
    "Would you like any code examples for these steps? 🚀"
   ]
  },
  {
   "cell_type": "code",
   "execution_count": 5,
   "metadata": {},
   "outputs": [],
   "source": [
    "df = pd.read_csv(r'train.csv')"
   ]
  },
  {
   "cell_type": "code",
   "execution_count": 8,
   "metadata": {},
   "outputs": [
    {
     "data": {
      "text/html": [
       "<div>\n",
       "<style scoped>\n",
       "    .dataframe tbody tr th:only-of-type {\n",
       "        vertical-align: middle;\n",
       "    }\n",
       "\n",
       "    .dataframe tbody tr th {\n",
       "        vertical-align: top;\n",
       "    }\n",
       "\n",
       "    .dataframe thead th {\n",
       "        text-align: right;\n",
       "    }\n",
       "</style>\n",
       "<table border=\"1\" class=\"dataframe\">\n",
       "  <thead>\n",
       "    <tr style=\"text-align: right;\">\n",
       "      <th></th>\n",
       "      <th>ID</th>\n",
       "      <th>RecipeNumber</th>\n",
       "      <th>RecipeCode</th>\n",
       "      <th>RecipeName</th>\n",
       "      <th>CommentID</th>\n",
       "      <th>UserID</th>\n",
       "      <th>UserName</th>\n",
       "      <th>UserReputation</th>\n",
       "      <th>CreationTimestamp</th>\n",
       "      <th>ReplyCount</th>\n",
       "      <th>ThumbsUpCount</th>\n",
       "      <th>ThumbsDownCount</th>\n",
       "      <th>Rating</th>\n",
       "      <th>BestScore</th>\n",
       "      <th>Recipe_Review</th>\n",
       "    </tr>\n",
       "  </thead>\n",
       "  <tbody>\n",
       "    <tr>\n",
       "      <th>6309</th>\n",
       "      <td>487</td>\n",
       "      <td>1</td>\n",
       "      <td>14299</td>\n",
       "      <td>Creamy White Chili</td>\n",
       "      <td>sp_aUSaElGf_14299_c_427146</td>\n",
       "      <td>u_1oKbZ7KcO7EYNlpOUTj6vEk07Fs</td>\n",
       "      <td>emilylime</td>\n",
       "      <td>1</td>\n",
       "      <td>1622718476</td>\n",
       "      <td>0</td>\n",
       "      <td>0</td>\n",
       "      <td>0</td>\n",
       "      <td>5</td>\n",
       "      <td>100</td>\n",
       "      <td>Won 2nd place in my work chili cookoff (althou...</td>\n",
       "    </tr>\n",
       "    <tr>\n",
       "      <th>10208</th>\n",
       "      <td>171</td>\n",
       "      <td>41</td>\n",
       "      <td>35948</td>\n",
       "      <td>Caramel-Pecan Cheesecake Pie</td>\n",
       "      <td>sp_aUSaElGf_35948_c_265771</td>\n",
       "      <td>u_1oKZnCiip7ommiKvbTiSyTX3Pi5</td>\n",
       "      <td>Rgrandisle</td>\n",
       "      <td>1</td>\n",
       "      <td>1622717663</td>\n",
       "      <td>0</td>\n",
       "      <td>0</td>\n",
       "      <td>0</td>\n",
       "      <td>0</td>\n",
       "      <td>100</td>\n",
       "      <td>Picture shows a brown layer between crust and ...</td>\n",
       "    </tr>\n",
       "    <tr>\n",
       "      <th>4593</th>\n",
       "      <td>181</td>\n",
       "      <td>1</td>\n",
       "      <td>14299</td>\n",
       "      <td>Creamy White Chili</td>\n",
       "      <td>sp_aUSaElGf_14299_c_306390</td>\n",
       "      <td>u_1oKVaXUaGSbQTpOnHc1sxIi557Z</td>\n",
       "      <td>cindihartline</td>\n",
       "      <td>1</td>\n",
       "      <td>1622717860</td>\n",
       "      <td>0</td>\n",
       "      <td>0</td>\n",
       "      <td>0</td>\n",
       "      <td>5</td>\n",
       "      <td>100</td>\n",
       "      <td>This is a great recipe, I did only put half th...</td>\n",
       "    </tr>\n",
       "    <tr>\n",
       "      <th>8900</th>\n",
       "      <td>13</td>\n",
       "      <td>90</td>\n",
       "      <td>33743</td>\n",
       "      <td>Tennessee Peach Pudding</td>\n",
       "      <td>sp_aUSaElGf_33743_c_422052</td>\n",
       "      <td>u_1oKbyWpeQxaj0r7nz4ZJL5jY2ly</td>\n",
       "      <td>Sandra Love-Rolewicz</td>\n",
       "      <td>1</td>\n",
       "      <td>1622718445</td>\n",
       "      <td>0</td>\n",
       "      <td>9</td>\n",
       "      <td>2</td>\n",
       "      <td>5</td>\n",
       "      <td>335</td>\n",
       "      <td>This was truly good but I changed one item - I...</td>\n",
       "    </tr>\n",
       "    <tr>\n",
       "      <th>11966</th>\n",
       "      <td>142</td>\n",
       "      <td>48</td>\n",
       "      <td>9739</td>\n",
       "      <td>Best Ever Potato Soup</td>\n",
       "      <td>sp_aUSaElGf_9739_c_243435</td>\n",
       "      <td>u_1oKWOumCuXTDJGiWSXXLFOkKNUX</td>\n",
       "      <td>d2check</td>\n",
       "      <td>1</td>\n",
       "      <td>1622717548</td>\n",
       "      <td>0</td>\n",
       "      <td>0</td>\n",
       "      <td>0</td>\n",
       "      <td>5</td>\n",
       "      <td>100</td>\n",
       "      <td>Made this soup today since hubby is under the ...</td>\n",
       "    </tr>\n",
       "    <tr>\n",
       "      <th>3457</th>\n",
       "      <td>36</td>\n",
       "      <td>25</td>\n",
       "      <td>23222</td>\n",
       "      <td>Baked Mushroom Chicken</td>\n",
       "      <td>sp_aUSaElGf_23222_c_401798</td>\n",
       "      <td>u_1oKVejpduQ8kj5drif27gmqZEGt</td>\n",
       "      <td>DuckyD</td>\n",
       "      <td>1</td>\n",
       "      <td>1622718365</td>\n",
       "      <td>0</td>\n",
       "      <td>0</td>\n",
       "      <td>0</td>\n",
       "      <td>0</td>\n",
       "      <td>100</td>\n",
       "      <td>It  SAYS in the top line of the Ingredients th...</td>\n",
       "    </tr>\n",
       "    <tr>\n",
       "      <th>1915</th>\n",
       "      <td>41</td>\n",
       "      <td>86</td>\n",
       "      <td>4383</td>\n",
       "      <td>First-Place Coconut Macaroons</td>\n",
       "      <td>sp_aUSaElGf_4383_c_413962</td>\n",
       "      <td>u_1oKdeAjy6BB8DR1RAZ2itPFQhxV</td>\n",
       "      <td>JenniferLockwood</td>\n",
       "      <td>1</td>\n",
       "      <td>1622718379</td>\n",
       "      <td>0</td>\n",
       "      <td>1</td>\n",
       "      <td>2</td>\n",
       "      <td>2</td>\n",
       "      <td>127</td>\n",
       "      <td>The taste was pretty good, but the texture and...</td>\n",
       "    </tr>\n",
       "    <tr>\n",
       "      <th>3156</th>\n",
       "      <td>62</td>\n",
       "      <td>81</td>\n",
       "      <td>27626</td>\n",
       "      <td>Skillet Shepherd’s Pie</td>\n",
       "      <td>sp_aUSaElGf_27626_c_230256</td>\n",
       "      <td>u_1oKVaK55qyXN7BdWCOW8C9dZiNz</td>\n",
       "      <td>hyattmyers</td>\n",
       "      <td>1</td>\n",
       "      <td>1622717489</td>\n",
       "      <td>0</td>\n",
       "      <td>0</td>\n",
       "      <td>0</td>\n",
       "      <td>5</td>\n",
       "      <td>100</td>\n",
       "      <td>Jim and Dee likes. Better then other recipes t...</td>\n",
       "    </tr>\n",
       "    <tr>\n",
       "      <th>4914</th>\n",
       "      <td>78</td>\n",
       "      <td>23</td>\n",
       "      <td>14600</td>\n",
       "      <td>Buttery Cornbread</td>\n",
       "      <td>sp_aUSaElGf_14600_c_374076</td>\n",
       "      <td>u_1oKVwDfh7YqGPqu5vHi1jfdzmVB</td>\n",
       "      <td>jnestler</td>\n",
       "      <td>1</td>\n",
       "      <td>1622718174</td>\n",
       "      <td>0</td>\n",
       "      <td>0</td>\n",
       "      <td>0</td>\n",
       "      <td>5</td>\n",
       "      <td>100</td>\n",
       "      <td>Wow! I have used this recipe since I first fou...</td>\n",
       "    </tr>\n",
       "    <tr>\n",
       "      <th>2036</th>\n",
       "      <td>65</td>\n",
       "      <td>38</td>\n",
       "      <td>1063</td>\n",
       "      <td>Frosted Banana Bars</td>\n",
       "      <td>sp_aUSaElGf_1063_c_257255</td>\n",
       "      <td>u_1oKVuM8oXftApANInpGSUMWM47h</td>\n",
       "      <td>mrkcook</td>\n",
       "      <td>1</td>\n",
       "      <td>1622717606</td>\n",
       "      <td>0</td>\n",
       "      <td>1</td>\n",
       "      <td>0</td>\n",
       "      <td>5</td>\n",
       "      <td>193</td>\n",
       "      <td>My son LOVED these banana bars and has been as...</td>\n",
       "    </tr>\n",
       "  </tbody>\n",
       "</table>\n",
       "</div>"
      ],
      "text/plain": [
       "        ID  RecipeNumber  RecipeCode                     RecipeName  \\\n",
       "6309   487             1       14299             Creamy White Chili   \n",
       "10208  171            41       35948   Caramel-Pecan Cheesecake Pie   \n",
       "4593   181             1       14299             Creamy White Chili   \n",
       "8900    13            90       33743        Tennessee Peach Pudding   \n",
       "11966  142            48        9739          Best Ever Potato Soup   \n",
       "3457    36            25       23222         Baked Mushroom Chicken   \n",
       "1915    41            86        4383  First-Place Coconut Macaroons   \n",
       "3156    62            81       27626         Skillet Shepherd’s Pie   \n",
       "4914    78            23       14600              Buttery Cornbread   \n",
       "2036    65            38        1063            Frosted Banana Bars   \n",
       "\n",
       "                        CommentID                         UserID  \\\n",
       "6309   sp_aUSaElGf_14299_c_427146  u_1oKbZ7KcO7EYNlpOUTj6vEk07Fs   \n",
       "10208  sp_aUSaElGf_35948_c_265771  u_1oKZnCiip7ommiKvbTiSyTX3Pi5   \n",
       "4593   sp_aUSaElGf_14299_c_306390  u_1oKVaXUaGSbQTpOnHc1sxIi557Z   \n",
       "8900   sp_aUSaElGf_33743_c_422052  u_1oKbyWpeQxaj0r7nz4ZJL5jY2ly   \n",
       "11966   sp_aUSaElGf_9739_c_243435  u_1oKWOumCuXTDJGiWSXXLFOkKNUX   \n",
       "3457   sp_aUSaElGf_23222_c_401798  u_1oKVejpduQ8kj5drif27gmqZEGt   \n",
       "1915    sp_aUSaElGf_4383_c_413962  u_1oKdeAjy6BB8DR1RAZ2itPFQhxV   \n",
       "3156   sp_aUSaElGf_27626_c_230256  u_1oKVaK55qyXN7BdWCOW8C9dZiNz   \n",
       "4914   sp_aUSaElGf_14600_c_374076  u_1oKVwDfh7YqGPqu5vHi1jfdzmVB   \n",
       "2036    sp_aUSaElGf_1063_c_257255  u_1oKVuM8oXftApANInpGSUMWM47h   \n",
       "\n",
       "                   UserName  UserReputation  CreationTimestamp  ReplyCount  \\\n",
       "6309              emilylime               1         1622718476           0   \n",
       "10208            Rgrandisle               1         1622717663           0   \n",
       "4593          cindihartline               1         1622717860           0   \n",
       "8900   Sandra Love-Rolewicz               1         1622718445           0   \n",
       "11966               d2check               1         1622717548           0   \n",
       "3457                 DuckyD               1         1622718365           0   \n",
       "1915       JenniferLockwood               1         1622718379           0   \n",
       "3156             hyattmyers               1         1622717489           0   \n",
       "4914               jnestler               1         1622718174           0   \n",
       "2036                mrkcook               1         1622717606           0   \n",
       "\n",
       "       ThumbsUpCount  ThumbsDownCount  Rating  BestScore  \\\n",
       "6309               0                0       5        100   \n",
       "10208              0                0       0        100   \n",
       "4593               0                0       5        100   \n",
       "8900               9                2       5        335   \n",
       "11966              0                0       5        100   \n",
       "3457               0                0       0        100   \n",
       "1915               1                2       2        127   \n",
       "3156               0                0       5        100   \n",
       "4914               0                0       5        100   \n",
       "2036               1                0       5        193   \n",
       "\n",
       "                                           Recipe_Review  \n",
       "6309   Won 2nd place in my work chili cookoff (althou...  \n",
       "10208  Picture shows a brown layer between crust and ...  \n",
       "4593   This is a great recipe, I did only put half th...  \n",
       "8900   This was truly good but I changed one item - I...  \n",
       "11966  Made this soup today since hubby is under the ...  \n",
       "3457   It  SAYS in the top line of the Ingredients th...  \n",
       "1915   The taste was pretty good, but the texture and...  \n",
       "3156   Jim and Dee likes. Better then other recipes t...  \n",
       "4914   Wow! I have used this recipe since I first fou...  \n",
       "2036   My son LOVED these banana bars and has been as...  "
      ]
     },
     "execution_count": 8,
     "metadata": {},
     "output_type": "execute_result"
    }
   ],
   "source": [
    "df.sample(10)"
   ]
  },
  {
   "cell_type": "markdown",
   "metadata": {},
   "source": [
    "# Univariate Analysis\n",
    "## RecipeNumber: Placement of the recipe on the top 100 recipes list"
   ]
  },
  {
   "cell_type": "code",
   "execution_count": 12,
   "metadata": {},
   "outputs": [
    {
     "data": {
      "text/plain": [
       "RecipeNumber\n",
       "3     553\n",
       "1     483\n",
       "2     372\n",
       "9     313\n",
       "13    307\n",
       "     ... \n",
       "54     68\n",
       "97     65\n",
       "91     64\n",
       "72     64\n",
       "61     19\n",
       "Name: count, Length: 100, dtype: int64"
      ]
     },
     "execution_count": 12,
     "metadata": {},
     "output_type": "execute_result"
    }
   ],
   "source": [
    "df['RecipeNumber'].value_counts()"
   ]
  },
  {
   "cell_type": "code",
   "execution_count": 33,
   "metadata": {},
   "outputs": [
    {
     "data": {
      "text/plain": [
       "(array([3103., 2018., 1411., 1287., 1180., 1023.,  915.,  955.,  973.,\n",
       "         771.]),\n",
       " array([  1. ,  10.9,  20.8,  30.7,  40.6,  50.5,  60.4,  70.3,  80.2,\n",
       "         90.1, 100. ]),\n",
       " <BarContainer object of 10 artists>)"
      ]
     },
     "execution_count": 33,
     "metadata": {},
     "output_type": "execute_result"
    },
    {
     "data": {
      "image/png": "[encoded data removed]",
      "text/plain": [
       "<Figure size 640x480 with 1 Axes>"
      ]
     },
     "metadata": {},
     "output_type": "display_data"
    }
   ],
   "source": [
    "plt.hist(df['RecipeNumber'])"
   ]
  },
  {
   "cell_type": "code",
   "execution_count": 37,
   "metadata": {},
   "outputs": [
    {
     "data": {
      "text/plain": [
       "<Axes: xlabel='RecipeNumber', ylabel='Count'>"
      ]
     },
     "execution_count": 37,
     "metadata": {},
     "output_type": "execute_result"
    },
    {
     "data": {
      "image/png": "[encoded data removed]",
      "text/plain": [
       "<Figure size 640x480 with 1 Axes>"
      ]
     },
     "metadata": {},
     "output_type": "display_data"
    }
   ],
   "source": [
    "sns.histplot(data=df,x='RecipeNumber',bins=15,kde=True)"
   ]
  },
  {
   "cell_type": "code",
   "execution_count": 38,
   "metadata": {},
   "outputs": [
    {
     "data": {
      "text/plain": [
       "<Axes: xlabel='RecipeNumber'>"
      ]
     },
     "execution_count": 38,
     "metadata": {},
     "output_type": "execute_result"
    },
    {
     "data": {
      "image/png": "[encoded data removed]",
      "text/plain": [
       "<Figure size 640x480 with 1 Axes>"
      ]
     },
     "metadata": {},
     "output_type": "display_data"
    }
   ],
   "source": [
    "sns.boxplot(data=df,x='RecipeNumber')"
   ]
  },
  {
   "cell_type": "code",
   "execution_count": 25,
   "metadata": {},
   "outputs": [
    {
     "name": "stdout",
     "output_type": "stream",
     "text": [
      " #unique values at each column\n",
      " ID                   701\n",
      " RecipeNumber         100\n",
      " RecipeCode           100\n",
      " RecipeName           100\n",
      " CommentID            13636\n",
      " UserID               10783\n",
      " UserName             10620\n",
      " UserReputation       20\n",
      " CreationTimestamp    2422\n",
      " ReplyCount           4\n",
      " ThumbsUpCount        57\n",
      " ThumbsDownCount      51\n",
      " Rating               6\n",
      " BestScore            525\n",
      " Recipe_Review        13370\n"
     ]
    }
   ],
   "source": [
    "print(' #unique values at each column')\n",
    "for i in df.columns:\n",
    "    print(f' {i:<20} {df[i].nunique()}')\n"
   ]
  },
  {
   "cell_type": "code",
   "execution_count": 29,
   "metadata": {},
   "outputs": [
    {
     "data": {
      "text/html": [
       "<div>\n",
       "<style scoped>\n",
       "    .dataframe tbody tr th:only-of-type {\n",
       "        vertical-align: middle;\n",
       "    }\n",
       "\n",
       "    .dataframe tbody tr th {\n",
       "        vertical-align: top;\n",
       "    }\n",
       "\n",
       "    .dataframe thead th {\n",
       "        text-align: right;\n",
       "    }\n",
       "</style>\n",
       "<table border=\"1\" class=\"dataframe\">\n",
       "  <thead>\n",
       "    <tr style=\"text-align: right;\">\n",
       "      <th></th>\n",
       "      <th>RecipeCode</th>\n",
       "      <th>RecipeName</th>\n",
       "      <th>RecipeNumber</th>\n",
       "    </tr>\n",
       "  </thead>\n",
       "  <tbody>\n",
       "    <tr>\n",
       "      <th>23</th>\n",
       "      <td>24886</td>\n",
       "      <td>Chicken and Dumplings</td>\n",
       "      <td>63</td>\n",
       "    </tr>\n",
       "    <tr>\n",
       "      <th>35</th>\n",
       "      <td>24886</td>\n",
       "      <td>Chicken and Dumplings</td>\n",
       "      <td>63</td>\n",
       "    </tr>\n",
       "    <tr>\n",
       "      <th>51</th>\n",
       "      <td>24886</td>\n",
       "      <td>Chicken and Dumplings</td>\n",
       "      <td>63</td>\n",
       "    </tr>\n",
       "    <tr>\n",
       "      <th>277</th>\n",
       "      <td>24886</td>\n",
       "      <td>Chicken and Dumplings</td>\n",
       "      <td>63</td>\n",
       "    </tr>\n",
       "    <tr>\n",
       "      <th>403</th>\n",
       "      <td>24886</td>\n",
       "      <td>Chicken and Dumplings</td>\n",
       "      <td>63</td>\n",
       "    </tr>\n",
       "    <tr>\n",
       "      <th>...</th>\n",
       "      <td>...</td>\n",
       "      <td>...</td>\n",
       "      <td>...</td>\n",
       "    </tr>\n",
       "    <tr>\n",
       "      <th>13506</th>\n",
       "      <td>24886</td>\n",
       "      <td>Chicken and Dumplings</td>\n",
       "      <td>63</td>\n",
       "    </tr>\n",
       "    <tr>\n",
       "      <th>13557</th>\n",
       "      <td>24886</td>\n",
       "      <td>Chicken and Dumplings</td>\n",
       "      <td>63</td>\n",
       "    </tr>\n",
       "    <tr>\n",
       "      <th>13573</th>\n",
       "      <td>24886</td>\n",
       "      <td>Chicken and Dumplings</td>\n",
       "      <td>63</td>\n",
       "    </tr>\n",
       "    <tr>\n",
       "      <th>13601</th>\n",
       "      <td>24886</td>\n",
       "      <td>Chicken and Dumplings</td>\n",
       "      <td>63</td>\n",
       "    </tr>\n",
       "    <tr>\n",
       "      <th>13634</th>\n",
       "      <td>24886</td>\n",
       "      <td>Chicken and Dumplings</td>\n",
       "      <td>63</td>\n",
       "    </tr>\n",
       "  </tbody>\n",
       "</table>\n",
       "<p>91 rows × 3 columns</p>\n",
       "</div>"
      ],
      "text/plain": [
       "       RecipeCode             RecipeName  RecipeNumber\n",
       "23          24886  Chicken and Dumplings            63\n",
       "35          24886  Chicken and Dumplings            63\n",
       "51          24886  Chicken and Dumplings            63\n",
       "277         24886  Chicken and Dumplings            63\n",
       "403         24886  Chicken and Dumplings            63\n",
       "...           ...                    ...           ...\n",
       "13506       24886  Chicken and Dumplings            63\n",
       "13557       24886  Chicken and Dumplings            63\n",
       "13573       24886  Chicken and Dumplings            63\n",
       "13601       24886  Chicken and Dumplings            63\n",
       "13634       24886  Chicken and Dumplings            63\n",
       "\n",
       "[91 rows x 3 columns]"
      ]
     },
     "execution_count": 29,
     "metadata": {},
     "output_type": "execute_result"
    }
   ],
   "source": [
    "df[df['RecipeCode'] == df['RecipeCode'][23]][['RecipeCode', 'RecipeName','RecipeNumber']]"
   ]
  },
  {
   "cell_type": "code",
   "execution_count": null,
   "metadata": {},
   "outputs": [],
   "source": []
  }
 ],
 "metadata": {
  "kernelspec": {
   "display_name": "myvenv",
   "language": "python",
   "name": "python3"
  },
  "language_info": {
   "codemirror_mode": {
    "name": "ipython",
    "version": 3
   },
   "file_extension": ".py",
   "mimetype": "text/x-python",
   "name": "python",
   "nbconvert_exporter": "python",
   "pygments_lexer": "ipython3",
   "version": "3.11.1"
  }
 },
 "nbformat": 4,
 "nbformat_minor": 2
}

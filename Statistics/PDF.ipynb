{
 "cells": [
  {
   "cell_type": "code",
   "execution_count": 2,
   "metadata": {},
   "outputs": [],
   "source": [
    "import numpy as np\n",
    "import matplotlib.pyplot as plt\n",
    "from scipy.stats import norm"
   ]
  },
  {
   "cell_type": "code",
   "execution_count": 3,
   "metadata": {},
   "outputs": [],
   "source": [
    "# Generate some example data that follows a normal distribution\n",
    "# For example, assume true mean = 5, true variance = 4 (std = 2)\n",
    "np.random.seed(42)\n",
    "data = np.random.normal(loc=5, scale=2, size=1000)"
   ]
  },
  {
   "cell_type": "code",
   "execution_count": 4,
   "metadata": {},
   "outputs": [],
   "source": [
    "# Step 1: Estimate parameters of the data distribution\n",
    "# Calculate the sample mean (MLE for mean)\n",
    "mu_hat = np.mean(data)\n",
    "# Calculate the sample variance (MLE for variance, using n in the denominator)\n",
    "sigma2_hat = np.mean((data - mu_hat)**2)\n",
    "sigma_hat = np.sqrt(sigma2_hat)"
   ]
  },
  {
   "cell_type": "code",
   "execution_count": 5,
   "metadata": {},
   "outputs": [
    {
     "name": "stdout",
     "output_type": "stream",
     "text": [
      "Estimated mean (mu_hat): 5.04\n",
      "Estimated variance (sigma2_hat): 3.83\n",
      "Estimated standard deviation (sigma_hat): 1.96\n"
     ]
    }
   ],
   "source": [
    "print(f\"Estimated mean (mu_hat): {mu_hat:.2f}\")\n",
    "print(f\"Estimated variance (sigma2_hat): {sigma2_hat:.2f}\")\n",
    "print(f\"Estimated standard deviation (sigma_hat): {sigma_hat:.2f}\")"
   ]
  },
  {
   "cell_type": "markdown",
   "metadata": {},
   "source": [
    "$$\n",
    "p(x) = \\frac{1}{\\sqrt{2\\pi\\sigma^2}} \\exp\\left(- \\frac{(x-\\mu)^2}{2\\sigma^2} \\right)\n",
    "$$\n"
   ]
  },
  {
   "cell_type": "code",
   "execution_count": 6,
   "metadata": {},
   "outputs": [],
   "source": [
    "# Step 2: Insert the estimated parameters into the PDF of the normal distribution\n",
    "# The PDF is: p(x) = 1/sqrt(2*pi*sigma^2) * exp(- (x-mu)^2 / (2*sigma^2) )\n",
    "def estimated_normal_pdf(x):\n",
    "    return (1/np.sqrt(2*np.pi*sigma2_hat)) * np.exp(- (x - mu_hat)**2 / (2*sigma2_hat))"
   ]
  },
  {
   "cell_type": "code",
   "execution_count": 10,
   "metadata": {},
   "outputs": [
    {
     "name": "stdout",
     "output_type": "stream",
     "text": [
      "First 10 density values: [0.18094963 0.20118178 0.16584963 0.06261077 0.19708471 0.19708557\n",
      " 0.05723096 0.15217742 0.17991007 0.17666827]\n"
     ]
    }
   ],
   "source": [
    "# Step 3: Compute the density for each data point in the dataset\n",
    "density_values = estimated_normal_pdf(data)\n",
    "\n",
    "# Step 4: Get an array containing all the PDF values (already stored in density_values)\n",
    "print(f\"First 10 density values: {density_values[:10]}\")"
   ]
  },
  {
   "cell_type": "code",
   "execution_count": 17,
   "metadata": {},
   "outputs": [
    {
     "data": {
      "text/plain": [
       "14.187997661447586"
      ]
     },
     "execution_count": 17,
     "metadata": {},
     "output_type": "execute_result"
    }
   ],
   "source": [
    "diff = np.max(data) - np.min(data)\n",
    "diff"
   ]
  },
  {
   "cell_type": "code",
   "execution_count": 18,
   "metadata": {},
   "outputs": [
    {
     "data": {
      "text/plain": [
       "0.014202199861308894"
      ]
     },
     "execution_count": 18,
     "metadata": {},
     "output_type": "execute_result"
    }
   ],
   "source": [
    "diff/999"
   ]
  },
  {
   "cell_type": "code",
   "execution_count": 8,
   "metadata": {},
   "outputs": [],
   "source": [
    "# Optionally, let's plot the histogram of the data and overlay the estimated PDF\n",
    "x_values = np.linspace(np.min(data) - 1, np.max(data) + 1, 1000)\n",
    "pdf_values = estimated_normal_pdf(x_values)"
   ]
  },
  {
   "cell_type": "code",
   "execution_count": 21,
   "metadata": {},
   "outputs": [
    {
     "data": {
      "text/plain": [
       "array([-2.48253468e+00, -2.46633048e+00, -2.45012628e+00, -2.43392207e+00,\n",
       "       -2.41771787e+00, -2.40151367e+00, -2.38530947e+00, -2.36910527e+00,\n",
       "       -2.35290107e+00, -2.33669686e+00, -2.32049266e+00, -2.30428846e+00,\n",
       "       -2.28808426e+00, -2.27188006e+00, -2.25567585e+00, -2.23947165e+00,\n",
       "       -2.22326745e+00, -2.20706325e+00, -2.19085905e+00, -2.17465484e+00,\n",
       "       -2.15845064e+00, -2.14224644e+00, -2.12604224e+00, -2.10983804e+00,\n",
       "       -2.09363384e+00, -2.07742963e+00, -2.06122543e+00, -2.04502123e+00,\n",
       "       -2.02881703e+00, -2.01261283e+00, -1.99640862e+00, -1.98020442e+00,\n",
       "       -1.96400022e+00, -1.94779602e+00, -1.93159182e+00, -1.91538761e+00,\n",
       "       -1.89918341e+00, -1.88297921e+00, -1.86677501e+00, -1.85057081e+00,\n",
       "       -1.83436661e+00, -1.81816240e+00, -1.80195820e+00, -1.78575400e+00,\n",
       "       -1.76954980e+00, -1.75334560e+00, -1.73714139e+00, -1.72093719e+00,\n",
       "       -1.70473299e+00, -1.68852879e+00, -1.67232459e+00, -1.65612039e+00,\n",
       "       -1.63991618e+00, -1.62371198e+00, -1.60750778e+00, -1.59130358e+00,\n",
       "       -1.57509938e+00, -1.55889517e+00, -1.54269097e+00, -1.52648677e+00,\n",
       "       -1.51028257e+00, -1.49407837e+00, -1.47787416e+00, -1.46166996e+00,\n",
       "       -1.44546576e+00, -1.42926156e+00, -1.41305736e+00, -1.39685316e+00,\n",
       "       -1.38064895e+00, -1.36444475e+00, -1.34824055e+00, -1.33203635e+00,\n",
       "       -1.31583215e+00, -1.29962794e+00, -1.28342374e+00, -1.26721954e+00,\n",
       "       -1.25101534e+00, -1.23481114e+00, -1.21860693e+00, -1.20240273e+00,\n",
       "       -1.18619853e+00, -1.16999433e+00, -1.15379013e+00, -1.13758593e+00,\n",
       "       -1.12138172e+00, -1.10517752e+00, -1.08897332e+00, -1.07276912e+00,\n",
       "       -1.05656492e+00, -1.04036071e+00, -1.02415651e+00, -1.00795231e+00,\n",
       "       -9.91748109e-01, -9.75543907e-01, -9.59339705e-01, -9.43135503e-01,\n",
       "       -9.26931301e-01, -9.10727099e-01, -8.94522898e-01, -8.78318696e-01,\n",
       "       -8.62114494e-01, -8.45910292e-01, -8.29706090e-01, -8.13501888e-01,\n",
       "       -7.97297686e-01, -7.81093484e-01, -7.64889283e-01, -7.48685081e-01,\n",
       "       -7.32480879e-01, -7.16276677e-01, -7.00072475e-01, -6.83868273e-01,\n",
       "       -6.67664071e-01, -6.51459870e-01, -6.35255668e-01, -6.19051466e-01,\n",
       "       -6.02847264e-01, -5.86643062e-01, -5.70438860e-01, -5.54234658e-01,\n",
       "       -5.38030457e-01, -5.21826255e-01, -5.05622053e-01, -4.89417851e-01,\n",
       "       -4.73213649e-01, -4.57009447e-01, -4.40805245e-01, -4.24601043e-01,\n",
       "       -4.08396842e-01, -3.92192640e-01, -3.75988438e-01, -3.59784236e-01,\n",
       "       -3.43580034e-01, -3.27375832e-01, -3.11171630e-01, -2.94967429e-01,\n",
       "       -2.78763227e-01, -2.62559025e-01, -2.46354823e-01, -2.30150621e-01,\n",
       "       -2.13946419e-01, -1.97742217e-01, -1.81538016e-01, -1.65333814e-01,\n",
       "       -1.49129612e-01, -1.32925410e-01, -1.16721208e-01, -1.00517006e-01,\n",
       "       -8.43128044e-02, -6.81086025e-02, -5.19044006e-02, -3.57001988e-02,\n",
       "       -1.94959969e-02, -3.29179505e-03,  1.29124068e-02,  2.91166087e-02,\n",
       "        4.53208105e-02,  6.15250124e-02,  7.77292143e-02,  9.39334161e-02,\n",
       "        1.10137618e-01,  1.26341820e-01,  1.42546022e-01,  1.58750224e-01,\n",
       "        1.74954425e-01,  1.91158627e-01,  2.07362829e-01,  2.23567031e-01,\n",
       "        2.39771233e-01,  2.55975435e-01,  2.72179637e-01,  2.88383838e-01,\n",
       "        3.04588040e-01,  3.20792242e-01,  3.36996444e-01,  3.53200646e-01,\n",
       "        3.69404848e-01,  3.85609050e-01,  4.01813252e-01,  4.18017453e-01,\n",
       "        4.34221655e-01,  4.50425857e-01,  4.66630059e-01,  4.82834261e-01,\n",
       "        4.99038463e-01,  5.15242665e-01,  5.31446866e-01,  5.47651068e-01,\n",
       "        5.63855270e-01,  5.80059472e-01,  5.96263674e-01,  6.12467876e-01,\n",
       "        6.28672078e-01,  6.44876279e-01,  6.61080481e-01,  6.77284683e-01,\n",
       "        6.93488885e-01,  7.09693087e-01,  7.25897289e-01,  7.42101491e-01,\n",
       "        7.58305693e-01,  7.74509894e-01,  7.90714096e-01,  8.06918298e-01,\n",
       "        8.23122500e-01,  8.39326702e-01,  8.55530904e-01,  8.71735106e-01,\n",
       "        8.87939307e-01,  9.04143509e-01,  9.20347711e-01,  9.36551913e-01,\n",
       "        9.52756115e-01,  9.68960317e-01,  9.85164519e-01,  1.00136872e+00,\n",
       "        1.01757292e+00,  1.03377712e+00,  1.04998133e+00,  1.06618553e+00,\n",
       "        1.08238973e+00,  1.09859393e+00,  1.11479813e+00,  1.13100234e+00,\n",
       "        1.14720654e+00,  1.16341074e+00,  1.17961494e+00,  1.19581914e+00,\n",
       "        1.21202334e+00,  1.22822755e+00,  1.24443175e+00,  1.26063595e+00,\n",
       "        1.27684015e+00,  1.29304435e+00,  1.30924856e+00,  1.32545276e+00,\n",
       "        1.34165696e+00,  1.35786116e+00,  1.37406536e+00,  1.39026957e+00,\n",
       "        1.40647377e+00,  1.42267797e+00,  1.43888217e+00,  1.45508637e+00,\n",
       "        1.47129057e+00,  1.48749478e+00,  1.50369898e+00,  1.51990318e+00,\n",
       "        1.53610738e+00,  1.55231158e+00,  1.56851579e+00,  1.58471999e+00,\n",
       "        1.60092419e+00,  1.61712839e+00,  1.63333259e+00,  1.64953680e+00,\n",
       "        1.66574100e+00,  1.68194520e+00,  1.69814940e+00,  1.71435360e+00,\n",
       "        1.73055780e+00,  1.74676201e+00,  1.76296621e+00,  1.77917041e+00,\n",
       "        1.79537461e+00,  1.81157881e+00,  1.82778302e+00,  1.84398722e+00,\n",
       "        1.86019142e+00,  1.87639562e+00,  1.89259982e+00,  1.90880402e+00,\n",
       "        1.92500823e+00,  1.94121243e+00,  1.95741663e+00,  1.97362083e+00,\n",
       "        1.98982503e+00,  2.00602924e+00,  2.02223344e+00,  2.03843764e+00,\n",
       "        2.05464184e+00,  2.07084604e+00,  2.08705025e+00,  2.10325445e+00,\n",
       "        2.11945865e+00,  2.13566285e+00,  2.15186705e+00,  2.16807125e+00,\n",
       "        2.18427546e+00,  2.20047966e+00,  2.21668386e+00,  2.23288806e+00,\n",
       "        2.24909226e+00,  2.26529647e+00,  2.28150067e+00,  2.29770487e+00,\n",
       "        2.31390907e+00,  2.33011327e+00,  2.34631748e+00,  2.36252168e+00,\n",
       "        2.37872588e+00,  2.39493008e+00,  2.41113428e+00,  2.42733848e+00,\n",
       "        2.44354269e+00,  2.45974689e+00,  2.47595109e+00,  2.49215529e+00,\n",
       "        2.50835949e+00,  2.52456370e+00,  2.54076790e+00,  2.55697210e+00,\n",
       "        2.57317630e+00,  2.58938050e+00,  2.60558470e+00,  2.62178891e+00,\n",
       "        2.63799311e+00,  2.65419731e+00,  2.67040151e+00,  2.68660571e+00,\n",
       "        2.70280992e+00,  2.71901412e+00,  2.73521832e+00,  2.75142252e+00,\n",
       "        2.76762672e+00,  2.78383093e+00,  2.80003513e+00,  2.81623933e+00,\n",
       "        2.83244353e+00,  2.84864773e+00,  2.86485193e+00,  2.88105614e+00,\n",
       "        2.89726034e+00,  2.91346454e+00,  2.92966874e+00,  2.94587294e+00,\n",
       "        2.96207715e+00,  2.97828135e+00,  2.99448555e+00,  3.01068975e+00,\n",
       "        3.02689395e+00,  3.04309816e+00,  3.05930236e+00,  3.07550656e+00,\n",
       "        3.09171076e+00,  3.10791496e+00,  3.12411916e+00,  3.14032337e+00,\n",
       "        3.15652757e+00,  3.17273177e+00,  3.18893597e+00,  3.20514017e+00,\n",
       "        3.22134438e+00,  3.23754858e+00,  3.25375278e+00,  3.26995698e+00,\n",
       "        3.28616118e+00,  3.30236539e+00,  3.31856959e+00,  3.33477379e+00,\n",
       "        3.35097799e+00,  3.36718219e+00,  3.38338639e+00,  3.39959060e+00,\n",
       "        3.41579480e+00,  3.43199900e+00,  3.44820320e+00,  3.46440740e+00,\n",
       "        3.48061161e+00,  3.49681581e+00,  3.51302001e+00,  3.52922421e+00,\n",
       "        3.54542841e+00,  3.56163261e+00,  3.57783682e+00,  3.59404102e+00,\n",
       "        3.61024522e+00,  3.62644942e+00,  3.64265362e+00,  3.65885783e+00,\n",
       "        3.67506203e+00,  3.69126623e+00,  3.70747043e+00,  3.72367463e+00,\n",
       "        3.73987884e+00,  3.75608304e+00,  3.77228724e+00,  3.78849144e+00,\n",
       "        3.80469564e+00,  3.82089984e+00,  3.83710405e+00,  3.85330825e+00,\n",
       "        3.86951245e+00,  3.88571665e+00,  3.90192085e+00,  3.91812506e+00,\n",
       "        3.93432926e+00,  3.95053346e+00,  3.96673766e+00,  3.98294186e+00,\n",
       "        3.99914607e+00,  4.01535027e+00,  4.03155447e+00,  4.04775867e+00,\n",
       "        4.06396287e+00,  4.08016707e+00,  4.09637128e+00,  4.11257548e+00,\n",
       "        4.12877968e+00,  4.14498388e+00,  4.16118808e+00,  4.17739229e+00,\n",
       "        4.19359649e+00,  4.20980069e+00,  4.22600489e+00,  4.24220909e+00,\n",
       "        4.25841329e+00,  4.27461750e+00,  4.29082170e+00,  4.30702590e+00,\n",
       "        4.32323010e+00,  4.33943430e+00,  4.35563851e+00,  4.37184271e+00,\n",
       "        4.38804691e+00,  4.40425111e+00,  4.42045531e+00,  4.43665952e+00,\n",
       "        4.45286372e+00,  4.46906792e+00,  4.48527212e+00,  4.50147632e+00,\n",
       "        4.51768052e+00,  4.53388473e+00,  4.55008893e+00,  4.56629313e+00,\n",
       "        4.58249733e+00,  4.59870153e+00,  4.61490574e+00,  4.63110994e+00,\n",
       "        4.64731414e+00,  4.66351834e+00,  4.67972254e+00,  4.69592675e+00,\n",
       "        4.71213095e+00,  4.72833515e+00,  4.74453935e+00,  4.76074355e+00,\n",
       "        4.77694775e+00,  4.79315196e+00,  4.80935616e+00,  4.82556036e+00,\n",
       "        4.84176456e+00,  4.85796876e+00,  4.87417297e+00,  4.89037717e+00,\n",
       "        4.90658137e+00,  4.92278557e+00,  4.93898977e+00,  4.95519398e+00,\n",
       "        4.97139818e+00,  4.98760238e+00,  5.00380658e+00,  5.02001078e+00,\n",
       "        5.03621498e+00,  5.05241919e+00,  5.06862339e+00,  5.08482759e+00,\n",
       "        5.10103179e+00,  5.11723599e+00,  5.13344020e+00,  5.14964440e+00,\n",
       "        5.16584860e+00,  5.18205280e+00,  5.19825700e+00,  5.21446120e+00,\n",
       "        5.23066541e+00,  5.24686961e+00,  5.26307381e+00,  5.27927801e+00,\n",
       "        5.29548221e+00,  5.31168642e+00,  5.32789062e+00,  5.34409482e+00,\n",
       "        5.36029902e+00,  5.37650322e+00,  5.39270743e+00,  5.40891163e+00,\n",
       "        5.42511583e+00,  5.44132003e+00,  5.45752423e+00,  5.47372843e+00,\n",
       "        5.48993264e+00,  5.50613684e+00,  5.52234104e+00,  5.53854524e+00,\n",
       "        5.55474944e+00,  5.57095365e+00,  5.58715785e+00,  5.60336205e+00,\n",
       "        5.61956625e+00,  5.63577045e+00,  5.65197466e+00,  5.66817886e+00,\n",
       "        5.68438306e+00,  5.70058726e+00,  5.71679146e+00,  5.73299566e+00,\n",
       "        5.74919987e+00,  5.76540407e+00,  5.78160827e+00,  5.79781247e+00,\n",
       "        5.81401667e+00,  5.83022088e+00,  5.84642508e+00,  5.86262928e+00,\n",
       "        5.87883348e+00,  5.89503768e+00,  5.91124189e+00,  5.92744609e+00,\n",
       "        5.94365029e+00,  5.95985449e+00,  5.97605869e+00,  5.99226289e+00,\n",
       "        6.00846710e+00,  6.02467130e+00,  6.04087550e+00,  6.05707970e+00,\n",
       "        6.07328390e+00,  6.08948811e+00,  6.10569231e+00,  6.12189651e+00,\n",
       "        6.13810071e+00,  6.15430491e+00,  6.17050911e+00,  6.18671332e+00,\n",
       "        6.20291752e+00,  6.21912172e+00,  6.23532592e+00,  6.25153012e+00,\n",
       "        6.26773433e+00,  6.28393853e+00,  6.30014273e+00,  6.31634693e+00,\n",
       "        6.33255113e+00,  6.34875534e+00,  6.36495954e+00,  6.38116374e+00,\n",
       "        6.39736794e+00,  6.41357214e+00,  6.42977634e+00,  6.44598055e+00,\n",
       "        6.46218475e+00,  6.47838895e+00,  6.49459315e+00,  6.51079735e+00,\n",
       "        6.52700156e+00,  6.54320576e+00,  6.55940996e+00,  6.57561416e+00,\n",
       "        6.59181836e+00,  6.60802257e+00,  6.62422677e+00,  6.64043097e+00,\n",
       "        6.65663517e+00,  6.67283937e+00,  6.68904357e+00,  6.70524778e+00,\n",
       "        6.72145198e+00,  6.73765618e+00,  6.75386038e+00,  6.77006458e+00,\n",
       "        6.78626879e+00,  6.80247299e+00,  6.81867719e+00,  6.83488139e+00,\n",
       "        6.85108559e+00,  6.86728979e+00,  6.88349400e+00,  6.89969820e+00,\n",
       "        6.91590240e+00,  6.93210660e+00,  6.94831080e+00,  6.96451501e+00,\n",
       "        6.98071921e+00,  6.99692341e+00,  7.01312761e+00,  7.02933181e+00,\n",
       "        7.04553602e+00,  7.06174022e+00,  7.07794442e+00,  7.09414862e+00,\n",
       "        7.11035282e+00,  7.12655702e+00,  7.14276123e+00,  7.15896543e+00,\n",
       "        7.17516963e+00,  7.19137383e+00,  7.20757803e+00,  7.22378224e+00,\n",
       "        7.23998644e+00,  7.25619064e+00,  7.27239484e+00,  7.28859904e+00,\n",
       "        7.30480325e+00,  7.32100745e+00,  7.33721165e+00,  7.35341585e+00,\n",
       "        7.36962005e+00,  7.38582425e+00,  7.40202846e+00,  7.41823266e+00,\n",
       "        7.43443686e+00,  7.45064106e+00,  7.46684526e+00,  7.48304947e+00,\n",
       "        7.49925367e+00,  7.51545787e+00,  7.53166207e+00,  7.54786627e+00,\n",
       "        7.56407048e+00,  7.58027468e+00,  7.59647888e+00,  7.61268308e+00,\n",
       "        7.62888728e+00,  7.64509148e+00,  7.66129569e+00,  7.67749989e+00,\n",
       "        7.69370409e+00,  7.70990829e+00,  7.72611249e+00,  7.74231670e+00,\n",
       "        7.75852090e+00,  7.77472510e+00,  7.79092930e+00,  7.80713350e+00,\n",
       "        7.82333770e+00,  7.83954191e+00,  7.85574611e+00,  7.87195031e+00,\n",
       "        7.88815451e+00,  7.90435871e+00,  7.92056292e+00,  7.93676712e+00,\n",
       "        7.95297132e+00,  7.96917552e+00,  7.98537972e+00,  8.00158393e+00,\n",
       "        8.01778813e+00,  8.03399233e+00,  8.05019653e+00,  8.06640073e+00,\n",
       "        8.08260493e+00,  8.09880914e+00,  8.11501334e+00,  8.13121754e+00,\n",
       "        8.14742174e+00,  8.16362594e+00,  8.17983015e+00,  8.19603435e+00,\n",
       "        8.21223855e+00,  8.22844275e+00,  8.24464695e+00,  8.26085116e+00,\n",
       "        8.27705536e+00,  8.29325956e+00,  8.30946376e+00,  8.32566796e+00,\n",
       "        8.34187216e+00,  8.35807637e+00,  8.37428057e+00,  8.39048477e+00,\n",
       "        8.40668897e+00,  8.42289317e+00,  8.43909738e+00,  8.45530158e+00,\n",
       "        8.47150578e+00,  8.48770998e+00,  8.50391418e+00,  8.52011839e+00,\n",
       "        8.53632259e+00,  8.55252679e+00,  8.56873099e+00,  8.58493519e+00,\n",
       "        8.60113939e+00,  8.61734360e+00,  8.63354780e+00,  8.64975200e+00,\n",
       "        8.66595620e+00,  8.68216040e+00,  8.69836461e+00,  8.71456881e+00,\n",
       "        8.73077301e+00,  8.74697721e+00,  8.76318141e+00,  8.77938561e+00,\n",
       "        8.79558982e+00,  8.81179402e+00,  8.82799822e+00,  8.84420242e+00,\n",
       "        8.86040662e+00,  8.87661083e+00,  8.89281503e+00,  8.90901923e+00,\n",
       "        8.92522343e+00,  8.94142763e+00,  8.95763184e+00,  8.97383604e+00,\n",
       "        8.99004024e+00,  9.00624444e+00,  9.02244864e+00,  9.03865284e+00,\n",
       "        9.05485705e+00,  9.07106125e+00,  9.08726545e+00,  9.10346965e+00,\n",
       "        9.11967385e+00,  9.13587806e+00,  9.15208226e+00,  9.16828646e+00,\n",
       "        9.18449066e+00,  9.20069486e+00,  9.21689907e+00,  9.23310327e+00,\n",
       "        9.24930747e+00,  9.26551167e+00,  9.28171587e+00,  9.29792007e+00,\n",
       "        9.31412428e+00,  9.33032848e+00,  9.34653268e+00,  9.36273688e+00,\n",
       "        9.37894108e+00,  9.39514529e+00,  9.41134949e+00,  9.42755369e+00,\n",
       "        9.44375789e+00,  9.45996209e+00,  9.47616629e+00,  9.49237050e+00,\n",
       "        9.50857470e+00,  9.52477890e+00,  9.54098310e+00,  9.55718730e+00,\n",
       "        9.57339151e+00,  9.58959571e+00,  9.60579991e+00,  9.62200411e+00,\n",
       "        9.63820831e+00,  9.65441252e+00,  9.67061672e+00,  9.68682092e+00,\n",
       "        9.70302512e+00,  9.71922932e+00,  9.73543352e+00,  9.75163773e+00,\n",
       "        9.76784193e+00,  9.78404613e+00,  9.80025033e+00,  9.81645453e+00,\n",
       "        9.83265874e+00,  9.84886294e+00,  9.86506714e+00,  9.88127134e+00,\n",
       "        9.89747554e+00,  9.91367975e+00,  9.92988395e+00,  9.94608815e+00,\n",
       "        9.96229235e+00,  9.97849655e+00,  9.99470075e+00,  1.00109050e+01,\n",
       "        1.00271092e+01,  1.00433134e+01,  1.00595176e+01,  1.00757218e+01,\n",
       "        1.00919260e+01,  1.01081302e+01,  1.01243344e+01,  1.01405386e+01,\n",
       "        1.01567428e+01,  1.01729470e+01,  1.01891512e+01,  1.02053554e+01,\n",
       "        1.02215596e+01,  1.02377638e+01,  1.02539680e+01,  1.02701722e+01,\n",
       "        1.02863764e+01,  1.03025806e+01,  1.03187848e+01,  1.03349890e+01,\n",
       "        1.03511932e+01,  1.03673974e+01,  1.03836016e+01,  1.03998058e+01,\n",
       "        1.04160100e+01,  1.04322142e+01,  1.04484184e+01,  1.04646226e+01,\n",
       "        1.04808268e+01,  1.04970310e+01,  1.05132352e+01,  1.05294394e+01,\n",
       "        1.05456436e+01,  1.05618478e+01,  1.05780520e+01,  1.05942562e+01,\n",
       "        1.06104604e+01,  1.06266646e+01,  1.06428688e+01,  1.06590730e+01,\n",
       "        1.06752772e+01,  1.06914814e+01,  1.07076856e+01,  1.07238898e+01,\n",
       "        1.07400940e+01,  1.07562982e+01,  1.07725024e+01,  1.07887066e+01,\n",
       "        1.08049108e+01,  1.08211150e+01,  1.08373193e+01,  1.08535235e+01,\n",
       "        1.08697277e+01,  1.08859319e+01,  1.09021361e+01,  1.09183403e+01,\n",
       "        1.09345445e+01,  1.09507487e+01,  1.09669529e+01,  1.09831571e+01,\n",
       "        1.09993613e+01,  1.10155655e+01,  1.10317697e+01,  1.10479739e+01,\n",
       "        1.10641781e+01,  1.10803823e+01,  1.10965865e+01,  1.11127907e+01,\n",
       "        1.11289949e+01,  1.11451991e+01,  1.11614033e+01,  1.11776075e+01,\n",
       "        1.11938117e+01,  1.12100159e+01,  1.12262201e+01,  1.12424243e+01,\n",
       "        1.12586285e+01,  1.12748327e+01,  1.12910369e+01,  1.13072411e+01,\n",
       "        1.13234453e+01,  1.13396495e+01,  1.13558537e+01,  1.13720579e+01,\n",
       "        1.13882621e+01,  1.14044663e+01,  1.14206705e+01,  1.14368747e+01,\n",
       "        1.14530789e+01,  1.14692831e+01,  1.14854873e+01,  1.15016915e+01,\n",
       "        1.15178957e+01,  1.15340999e+01,  1.15503041e+01,  1.15665083e+01,\n",
       "        1.15827125e+01,  1.15989167e+01,  1.16151209e+01,  1.16313251e+01,\n",
       "        1.16475293e+01,  1.16637335e+01,  1.16799377e+01,  1.16961420e+01,\n",
       "        1.17123462e+01,  1.17285504e+01,  1.17447546e+01,  1.17609588e+01,\n",
       "        1.17771630e+01,  1.17933672e+01,  1.18095714e+01,  1.18257756e+01,\n",
       "        1.18419798e+01,  1.18581840e+01,  1.18743882e+01,  1.18905924e+01,\n",
       "        1.19067966e+01,  1.19230008e+01,  1.19392050e+01,  1.19554092e+01,\n",
       "        1.19716134e+01,  1.19878176e+01,  1.20040218e+01,  1.20202260e+01,\n",
       "        1.20364302e+01,  1.20526344e+01,  1.20688386e+01,  1.20850428e+01,\n",
       "        1.21012470e+01,  1.21174512e+01,  1.21336554e+01,  1.21498596e+01,\n",
       "        1.21660638e+01,  1.21822680e+01,  1.21984722e+01,  1.22146764e+01,\n",
       "        1.22308806e+01,  1.22470848e+01,  1.22632890e+01,  1.22794932e+01,\n",
       "        1.22956974e+01,  1.23119016e+01,  1.23281058e+01,  1.23443100e+01,\n",
       "        1.23605142e+01,  1.23767184e+01,  1.23929226e+01,  1.24091268e+01,\n",
       "        1.24253310e+01,  1.24415352e+01,  1.24577394e+01,  1.24739436e+01,\n",
       "        1.24901478e+01,  1.25063520e+01,  1.25225562e+01,  1.25387604e+01,\n",
       "        1.25549646e+01,  1.25711689e+01,  1.25873731e+01,  1.26035773e+01,\n",
       "        1.26197815e+01,  1.26359857e+01,  1.26521899e+01,  1.26683941e+01,\n",
       "        1.26845983e+01,  1.27008025e+01,  1.27170067e+01,  1.27332109e+01,\n",
       "        1.27494151e+01,  1.27656193e+01,  1.27818235e+01,  1.27980277e+01,\n",
       "        1.28142319e+01,  1.28304361e+01,  1.28466403e+01,  1.28628445e+01,\n",
       "        1.28790487e+01,  1.28952529e+01,  1.29114571e+01,  1.29276613e+01,\n",
       "        1.29438655e+01,  1.29600697e+01,  1.29762739e+01,  1.29924781e+01,\n",
       "        1.30086823e+01,  1.30248865e+01,  1.30410907e+01,  1.30572949e+01,\n",
       "        1.30734991e+01,  1.30897033e+01,  1.31059075e+01,  1.31221117e+01,\n",
       "        1.31383159e+01,  1.31545201e+01,  1.31707243e+01,  1.31869285e+01,\n",
       "        1.32031327e+01,  1.32193369e+01,  1.32355411e+01,  1.32517453e+01,\n",
       "        1.32679495e+01,  1.32841537e+01,  1.33003579e+01,  1.33165621e+01,\n",
       "        1.33327663e+01,  1.33489705e+01,  1.33651747e+01,  1.33813789e+01,\n",
       "        1.33975831e+01,  1.34137873e+01,  1.34299915e+01,  1.34461958e+01,\n",
       "        1.34624000e+01,  1.34786042e+01,  1.34948084e+01,  1.35110126e+01,\n",
       "        1.35272168e+01,  1.35434210e+01,  1.35596252e+01,  1.35758294e+01,\n",
       "        1.35920336e+01,  1.36082378e+01,  1.36244420e+01,  1.36406462e+01,\n",
       "        1.36568504e+01,  1.36730546e+01,  1.36892588e+01,  1.37054630e+01])"
      ]
     },
     "execution_count": 21,
     "metadata": {},
     "output_type": "execute_result"
    }
   ],
   "source": [
    "x_values"
   ]
  },
  {
   "cell_type": "code",
   "execution_count": 20,
   "metadata": {},
   "outputs": [
    {
     "data": {
      "text/plain": [
       "array([ 0.        ,  1.11111111,  2.22222222,  3.33333333,  4.44444444,\n",
       "        5.55555556,  6.66666667,  7.77777778,  8.88888889, 10.        ])"
      ]
     },
     "execution_count": 20,
     "metadata": {},
     "output_type": "execute_result"
    }
   ],
   "source": [
    "np.linspace(0,10,10)"
   ]
  },
  {
   "cell_type": "code",
   "execution_count": 12,
   "metadata": {},
   "outputs": [
    {
     "data": {
      "image/png": "[encoded data removed]",
      "text/plain": [
       "<Figure size 800x500 with 1 Axes>"
      ]
     },
     "metadata": {},
     "output_type": "display_data"
    }
   ],
   "source": [
    "plt.figure(figsize=(8, 5))\n",
    "plt.hist(data, bins=30, density=True, alpha=0.6, color='g', label='Data Histogram')\n",
    "plt.plot(x_values, pdf_values, 'r', linewidth=2, label='Estimated Normal PDF')\n",
    "plt.title(\"Data Histogram and Estimated Normal PDF\")\n",
    "plt.xlabel(\"Data values\")\n",
    "plt.ylabel(\"Density\")\n",
    "plt.legend()\n",
    "plt.show()"
   ]
  },
  {
   "cell_type": "code",
   "execution_count": null,
   "metadata": {},
   "outputs": [],
   "source": []
  },
  {
   "cell_type": "code",
   "execution_count": null,
   "metadata": {},
   "outputs": [],
   "source": []
  }
 ],
 "metadata": {
  "kernelspec": {
   "display_name": "Python 3",
   "language": "python",
   "name": "python3"
  },
  "language_info": {
   "codemirror_mode": {
    "name": "ipython",
    "version": 3
   },
   "file_extension": ".py",
   "mimetype": "text/x-python",
   "name": "python",
   "nbconvert_exporter": "python",
   "pygments_lexer": "ipython3",
   "version": "3.11.1"
  }
 },
 "nbformat": 4,
 "nbformat_minor": 2
}

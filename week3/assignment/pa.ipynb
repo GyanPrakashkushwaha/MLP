{
 "cells": [
  {
   "cell_type": "code",
   "execution_count": 1,
   "metadata": {},
   "outputs": [],
   "source": [
    "import numpy as np\n",
    "import matplotlib.pyplot as plt\n",
    "import pandas as pd\n",
    "import seaborn as sns\n",
    "sns.set_theme(style='whitegrid')"
   ]
  },
  {
   "cell_type": "code",
   "execution_count": 3,
   "metadata": {},
   "outputs": [],
   "source": [
    "import os\n",
    "os.chdir(r'D:/GyanPrakashKushwaha/MLP/')"
   ]
  },
  {
   "cell_type": "code",
   "execution_count": 8,
   "metadata": {},
   "outputs": [],
   "source": [
    "credit = pd.read_csv(r'Data/credits.csv')\n",
    "movies = pd.read_csv(r'Data/movies.csv')"
   ]
  },
  {
   "cell_type": "markdown",
   "metadata": {},
   "source": [
    "### Q-1) How many movies are present in this dataset?"
   ]
  },
  {
   "cell_type": "code",
   "execution_count": 27,
   "metadata": {},
   "outputs": [
    {
     "data": {
      "text/html": [
       "<div>\n",
       "<style scoped>\n",
       "    .dataframe tbody tr th:only-of-type {\n",
       "        vertical-align: middle;\n",
       "    }\n",
       "\n",
       "    .dataframe tbody tr th {\n",
       "        vertical-align: top;\n",
       "    }\n",
       "\n",
       "    .dataframe thead th {\n",
       "        text-align: right;\n",
       "    }\n",
       "</style>\n",
       "<table border=\"1\" class=\"dataframe\">\n",
       "  <thead>\n",
       "    <tr style=\"text-align: right;\">\n",
       "      <th></th>\n",
       "      <th>movie_id</th>\n",
       "      <th>title</th>\n",
       "      <th>cast</th>\n",
       "      <th>crew</th>\n",
       "    </tr>\n",
       "  </thead>\n",
       "  <tbody>\n",
       "    <tr>\n",
       "      <th>2877</th>\n",
       "      <td>1255</td>\n",
       "      <td>The Host</td>\n",
       "      <td>[{\"cast_id\": 3, \"character\": \"Park Gang-du\", \"...</td>\n",
       "      <td>[{\"credit_id\": \"52fe42eac3a36847f802ca6b\", \"de...</td>\n",
       "    </tr>\n",
       "    <tr>\n",
       "      <th>3693</th>\n",
       "      <td>10844</td>\n",
       "      <td>Out of the Blue</td>\n",
       "      <td>[{\"cast_id\": 12, \"character\": \"Nick Harvey\", \"...</td>\n",
       "      <td>[{\"credit_id\": \"52fe43c19251416c7501cceb\", \"de...</td>\n",
       "    </tr>\n",
       "    <tr>\n",
       "      <th>4267</th>\n",
       "      <td>2661</td>\n",
       "      <td>Batman</td>\n",
       "      <td>[{\"cast_id\": 17, \"character\": \"Batman / Bruce ...</td>\n",
       "      <td>[{\"credit_id\": \"52fe4363c3a36847f80509a7\", \"de...</td>\n",
       "    </tr>\n",
       "  </tbody>\n",
       "</table>\n",
       "</div>"
      ],
      "text/plain": [
       "      movie_id            title  \\\n",
       "2877      1255         The Host   \n",
       "3693     10844  Out of the Blue   \n",
       "4267      2661           Batman   \n",
       "\n",
       "                                                   cast  \\\n",
       "2877  [{\"cast_id\": 3, \"character\": \"Park Gang-du\", \"...   \n",
       "3693  [{\"cast_id\": 12, \"character\": \"Nick Harvey\", \"...   \n",
       "4267  [{\"cast_id\": 17, \"character\": \"Batman / Bruce ...   \n",
       "\n",
       "                                                   crew  \n",
       "2877  [{\"credit_id\": \"52fe42eac3a36847f802ca6b\", \"de...  \n",
       "3693  [{\"credit_id\": \"52fe43c19251416c7501cceb\", \"de...  \n",
       "4267  [{\"credit_id\": \"52fe4363c3a36847f80509a7\", \"de...  "
      ]
     },
     "execution_count": 27,
     "metadata": {},
     "output_type": "execute_result"
    }
   ],
   "source": [
    "credit[credit['title'].duplicated() == True]"
   ]
  },
  {
   "cell_type": "code",
   "execution_count": 30,
   "metadata": {},
   "outputs": [
    {
     "data": {
      "text/html": [
       "<div>\n",
       "<style scoped>\n",
       "    .dataframe tbody tr th:only-of-type {\n",
       "        vertical-align: middle;\n",
       "    }\n",
       "\n",
       "    .dataframe tbody tr th {\n",
       "        vertical-align: top;\n",
       "    }\n",
       "\n",
       "    .dataframe thead th {\n",
       "        text-align: right;\n",
       "    }\n",
       "</style>\n",
       "<table border=\"1\" class=\"dataframe\">\n",
       "  <thead>\n",
       "    <tr style=\"text-align: right;\">\n",
       "      <th></th>\n",
       "      <th>movie_id</th>\n",
       "      <th>title</th>\n",
       "      <th>cast</th>\n",
       "      <th>crew</th>\n",
       "    </tr>\n",
       "  </thead>\n",
       "  <tbody>\n",
       "    <tr>\n",
       "      <th>972</th>\n",
       "      <td>72710</td>\n",
       "      <td>The Host</td>\n",
       "      <td>[{\"cast_id\": 52, \"character\": \"Melanie Stryder...</td>\n",
       "      <td>[{\"credit_id\": \"52fe487bc3a368484e0fa919\", \"de...</td>\n",
       "    </tr>\n",
       "    <tr>\n",
       "      <th>2877</th>\n",
       "      <td>1255</td>\n",
       "      <td>The Host</td>\n",
       "      <td>[{\"cast_id\": 3, \"character\": \"Park Gang-du\", \"...</td>\n",
       "      <td>[{\"credit_id\": \"52fe42eac3a36847f802ca6b\", \"de...</td>\n",
       "    </tr>\n",
       "  </tbody>\n",
       "</table>\n",
       "</div>"
      ],
      "text/plain": [
       "      movie_id     title                                               cast  \\\n",
       "972      72710  The Host  [{\"cast_id\": 52, \"character\": \"Melanie Stryder...   \n",
       "2877      1255  The Host  [{\"cast_id\": 3, \"character\": \"Park Gang-du\", \"...   \n",
       "\n",
       "                                                   crew  \n",
       "972   [{\"credit_id\": \"52fe487bc3a368484e0fa919\", \"de...  \n",
       "2877  [{\"credit_id\": \"52fe42eac3a36847f802ca6b\", \"de...  "
      ]
     },
     "execution_count": 30,
     "metadata": {},
     "output_type": "execute_result"
    }
   ],
   "source": [
    "credit[credit['title'] == \"The Host\"]"
   ]
  },
  {
   "cell_type": "code",
   "execution_count": 32,
   "metadata": {},
   "outputs": [
    {
     "data": {
      "text/html": [
       "<div>\n",
       "<style scoped>\n",
       "    .dataframe tbody tr th:only-of-type {\n",
       "        vertical-align: middle;\n",
       "    }\n",
       "\n",
       "    .dataframe tbody tr th {\n",
       "        vertical-align: top;\n",
       "    }\n",
       "\n",
       "    .dataframe thead th {\n",
       "        text-align: right;\n",
       "    }\n",
       "</style>\n",
       "<table border=\"1\" class=\"dataframe\">\n",
       "  <thead>\n",
       "    <tr style=\"text-align: right;\">\n",
       "      <th></th>\n",
       "      <th>movie_id</th>\n",
       "      <th>title</th>\n",
       "      <th>cast</th>\n",
       "      <th>crew</th>\n",
       "    </tr>\n",
       "  </thead>\n",
       "  <tbody>\n",
       "    <tr>\n",
       "      <th>3647</th>\n",
       "      <td>39269</td>\n",
       "      <td>Out of the Blue</td>\n",
       "      <td>[{\"cast_id\": 2, \"character\": \"Don\", \"credit_id...</td>\n",
       "      <td>[{\"credit_id\": \"52fe47099251416c9106826f\", \"de...</td>\n",
       "    </tr>\n",
       "    <tr>\n",
       "      <th>3693</th>\n",
       "      <td>10844</td>\n",
       "      <td>Out of the Blue</td>\n",
       "      <td>[{\"cast_id\": 12, \"character\": \"Nick Harvey\", \"...</td>\n",
       "      <td>[{\"credit_id\": \"52fe43c19251416c7501cceb\", \"de...</td>\n",
       "    </tr>\n",
       "  </tbody>\n",
       "</table>\n",
       "</div>"
      ],
      "text/plain": [
       "      movie_id            title  \\\n",
       "3647     39269  Out of the Blue   \n",
       "3693     10844  Out of the Blue   \n",
       "\n",
       "                                                   cast  \\\n",
       "3647  [{\"cast_id\": 2, \"character\": \"Don\", \"credit_id...   \n",
       "3693  [{\"cast_id\": 12, \"character\": \"Nick Harvey\", \"...   \n",
       "\n",
       "                                                   crew  \n",
       "3647  [{\"credit_id\": \"52fe47099251416c9106826f\", \"de...  \n",
       "3693  [{\"credit_id\": \"52fe43c19251416c7501cceb\", \"de...  "
      ]
     },
     "execution_count": 32,
     "metadata": {},
     "output_type": "execute_result"
    }
   ],
   "source": [
    "credit[credit['title'] == \"Out of the Blue\"]"
   ]
  },
  {
   "cell_type": "code",
   "execution_count": 33,
   "metadata": {},
   "outputs": [
    {
     "data": {
      "text/html": [
       "<div>\n",
       "<style scoped>\n",
       "    .dataframe tbody tr th:only-of-type {\n",
       "        vertical-align: middle;\n",
       "    }\n",
       "\n",
       "    .dataframe tbody tr th {\n",
       "        vertical-align: top;\n",
       "    }\n",
       "\n",
       "    .dataframe thead th {\n",
       "        text-align: right;\n",
       "    }\n",
       "</style>\n",
       "<table border=\"1\" class=\"dataframe\">\n",
       "  <thead>\n",
       "    <tr style=\"text-align: right;\">\n",
       "      <th></th>\n",
       "      <th>movie_id</th>\n",
       "      <th>title</th>\n",
       "      <th>cast</th>\n",
       "      <th>crew</th>\n",
       "    </tr>\n",
       "  </thead>\n",
       "  <tbody>\n",
       "    <tr>\n",
       "      <th>1359</th>\n",
       "      <td>268</td>\n",
       "      <td>Batman</td>\n",
       "      <td>[{\"cast_id\": 5, \"character\": \"Jack Napier/The ...</td>\n",
       "      <td>[{\"credit_id\": \"52fe422fc3a36847f800aa4b\", \"de...</td>\n",
       "    </tr>\n",
       "    <tr>\n",
       "      <th>4267</th>\n",
       "      <td>2661</td>\n",
       "      <td>Batman</td>\n",
       "      <td>[{\"cast_id\": 17, \"character\": \"Batman / Bruce ...</td>\n",
       "      <td>[{\"credit_id\": \"52fe4363c3a36847f80509a7\", \"de...</td>\n",
       "    </tr>\n",
       "  </tbody>\n",
       "</table>\n",
       "</div>"
      ],
      "text/plain": [
       "      movie_id   title                                               cast  \\\n",
       "1359       268  Batman  [{\"cast_id\": 5, \"character\": \"Jack Napier/The ...   \n",
       "4267      2661  Batman  [{\"cast_id\": 17, \"character\": \"Batman / Bruce ...   \n",
       "\n",
       "                                                   crew  \n",
       "1359  [{\"credit_id\": \"52fe422fc3a36847f800aa4b\", \"de...  \n",
       "4267  [{\"credit_id\": \"52fe4363c3a36847f80509a7\", \"de...  "
      ]
     },
     "execution_count": 33,
     "metadata": {},
     "output_type": "execute_result"
    }
   ],
   "source": [
    "credit[credit['title'] == \"Batman\"]"
   ]
  },
  {
   "cell_type": "code",
   "execution_count": 34,
   "metadata": {},
   "outputs": [
    {
     "data": {
      "text/plain": [
       "0"
      ]
     },
     "execution_count": 34,
     "metadata": {},
     "output_type": "execute_result"
    }
   ],
   "source": [
    "credit.duplicated().sum() # The movies are only duplicated."
   ]
  },
  {
   "cell_type": "code",
   "execution_count": 37,
   "metadata": {},
   "outputs": [
    {
     "data": {
      "text/plain": [
       "4800"
      ]
     },
     "execution_count": 37,
     "metadata": {},
     "output_type": "execute_result"
    }
   ],
   "source": [
    "len(credit['title'].unique())"
   ]
  },
  {
   "cell_type": "code",
   "execution_count": 39,
   "metadata": {},
   "outputs": [
    {
     "data": {
      "text/plain": [
       "4800"
      ]
     },
     "execution_count": 39,
     "metadata": {},
     "output_type": "execute_result"
    }
   ],
   "source": [
    "credit.shape[0] -3 # ✔ Having right value."
   ]
  },
  {
   "cell_type": "markdown",
   "metadata": {},
   "source": [
    "### Q-2) Which movie has the highest runtime? (Enter the name of the movie as seen in the title column of the dataset)"
   ]
  },
  {
   "cell_type": "code",
   "execution_count": 46,
   "metadata": {},
   "outputs": [],
   "source": [
    "from pprint import pprint"
   ]
  },
  {
   "cell_type": "code",
   "execution_count": 47,
   "metadata": {},
   "outputs": [
    {
     "name": "stdout",
     "output_type": "stream",
     "text": [
      "('[{\"cast_id\": 242, \"character\": \"Jake Sully\", \"credit_id\": '\n",
      " '\"5602a8a7c3a3685532001c9a\", \"gender\": 2, \"id\": 65731, \"name\": \"Sam '\n",
      " 'Worthington\", \"order\": 0}, {\"cast_id\": 3, \"character\": \"Neytiri\", '\n",
      " '\"credit_id\": \"52fe48009251416c750ac9cb\", \"gender\": 1, \"id\": 8691, \"name\": '\n",
      " '\"Zoe Saldana\", \"order\": 1}, {\"cast_id\": 25, \"character\": \"Dr. Grace '\n",
      " 'Augustine\", \"credit_id\": \"52fe48009251416c750aca39\", \"gender\": 1, \"id\": '\n",
      " '10205, \"name\": \"Sigourney Weaver\", \"order\": 2}, {\"cast_id\": 4, \"character\": '\n",
      " '\"Col. Quaritch\", \"credit_id\": \"52fe48009251416c750ac9cf\", \"gender\": 2, \"id\": '\n",
      " '32747, \"name\": \"Stephen Lang\", \"order\": 3}, {\"cast_id\": 5, \"character\": '\n",
      " '\"Trudy Chacon\", \"credit_id\": \"52fe48009251416c750ac9d3\", \"gender\": 1, \"id\": '\n",
      " '17647, \"name\": \"Michelle Rodriguez\", \"order\": 4}, {\"cast_id\": 8, '\n",
      " '\"character\": \"Selfridge\", \"credit_id\": \"52fe48009251416c750ac9e1\", \"gender\": '\n",
      " '2, \"id\": 1771, \"name\": \"Giovanni Ribisi\", \"order\": 5}, {\"cast_id\": 7, '\n",
      " '\"character\": \"Norm Spellman\", \"credit_id\": \"52fe48009251416c750ac9dd\", '\n",
      " '\"gender\": 2, \"id\": 59231, \"name\": \"Joel David Moore\", \"order\": 6}, '\n",
      " '{\"cast_id\": 9, \"character\": \"Moat\", \"credit_id\": \"52fe48009251416c750ac9e5\", '\n",
      " '\"gender\": 1, \"id\": 30485, \"name\": \"CCH Pounder\", \"order\": 7}, {\"cast_id\": '\n",
      " '11, \"character\": \"Eytukan\", \"credit_id\": \"52fe48009251416c750ac9ed\", '\n",
      " '\"gender\": 2, \"id\": 15853, \"name\": \"Wes Studi\", \"order\": 8}, {\"cast_id\": 10, '\n",
      " '\"character\": \"Tsu\\'Tey\", \"credit_id\": \"52fe48009251416c750ac9e9\", \"gender\": '\n",
      " '2, \"id\": 10964, \"name\": \"Laz Alonso\", \"order\": 9}, {\"cast_id\": 12, '\n",
      " '\"character\": \"Dr. Max Patel\", \"credit_id\": \"52fe48009251416c750ac9f1\", '\n",
      " '\"gender\": 2, \"id\": 95697, \"name\": \"Dileep Rao\", \"order\": 10}, {\"cast_id\": '\n",
      " '13, \"character\": \"Lyle Wainfleet\", \"credit_id\": \"52fe48009251416c750ac9f5\", '\n",
      " '\"gender\": 2, \"id\": 98215, \"name\": \"Matt Gerald\", \"order\": 11}, {\"cast_id\": '\n",
      " '32, \"character\": \"Private Fike\", \"credit_id\": \"52fe48009251416c750aca5b\", '\n",
      " '\"gender\": 2, \"id\": 154153, \"name\": \"Sean Anthony Moran\", \"order\": 12}, '\n",
      " '{\"cast_id\": 33, \"character\": \"Cryo Vault Med Tech\", \"credit_id\": '\n",
      " '\"52fe48009251416c750aca5f\", \"gender\": 2, \"id\": 397312, \"name\": \"Jason '\n",
      " 'Whyte\", \"order\": 13}, {\"cast_id\": 34, \"character\": \"Venture Star Crew '\n",
      " 'Chief\", \"credit_id\": \"52fe48009251416c750aca63\", \"gender\": 2, \"id\": 42317, '\n",
      " '\"name\": \"Scott Lawrence\", \"order\": 14}, {\"cast_id\": 35, \"character\": \"Lock '\n",
      " 'Up Trooper\", \"credit_id\": \"52fe48009251416c750aca67\", \"gender\": 2, \"id\": '\n",
      " '986734, \"name\": \"Kelly Kilgour\", \"order\": 15}, {\"cast_id\": 36, \"character\": '\n",
      " '\"Shuttle Pilot\", \"credit_id\": \"52fe48009251416c750aca6b\", \"gender\": 0, \"id\": '\n",
      " '1207227, \"name\": \"James Patrick Pitt\", \"order\": 16}, {\"cast_id\": 37, '\n",
      " '\"character\": \"Shuttle Co-Pilot\", \"credit_id\": \"52fe48009251416c750aca6f\", '\n",
      " '\"gender\": 0, \"id\": 1180936, \"name\": \"Sean Patrick Murphy\", \"order\": 17}, '\n",
      " '{\"cast_id\": 38, \"character\": \"Shuttle Crew Chief\", \"credit_id\": '\n",
      " '\"52fe48009251416c750aca73\", \"gender\": 2, \"id\": 1019578, \"name\": \"Peter '\n",
      " 'Dillon\", \"order\": 18}, {\"cast_id\": 39, \"character\": \"Tractor Operator / '\n",
      " 'Troupe\", \"credit_id\": \"52fe48009251416c750aca77\", \"gender\": 0, \"id\": 91443, '\n",
      " '\"name\": \"Kevin Dorman\", \"order\": 19}, {\"cast_id\": 40, \"character\": \"Dragon '\n",
      " 'Gunship Pilot\", \"credit_id\": \"52fe48009251416c750aca7b\", \"gender\": 2, \"id\": '\n",
      " '173391, \"name\": \"Kelson Henderson\", \"order\": 20}, {\"cast_id\": 41, '\n",
      " '\"character\": \"Dragon Gunship Gunner\", \"credit_id\": '\n",
      " '\"52fe48009251416c750aca7f\", \"gender\": 0, \"id\": 1207236, \"name\": \"David Van '\n",
      " 'Horn\", \"order\": 21}, {\"cast_id\": 42, \"character\": \"Dragon Gunship '\n",
      " 'Navigator\", \"credit_id\": \"52fe48009251416c750aca83\", \"gender\": 0, \"id\": '\n",
      " '215913, \"name\": \"Jacob Tomuri\", \"order\": 22}, {\"cast_id\": 43, \"character\": '\n",
      " '\"Suit #1\", \"credit_id\": \"52fe48009251416c750aca87\", \"gender\": 0, \"id\": '\n",
      " '143206, \"name\": \"Michael Blain-Rozgay\", \"order\": 23}, {\"cast_id\": 44, '\n",
      " '\"character\": \"Suit #2\", \"credit_id\": \"52fe48009251416c750aca8b\", \"gender\": '\n",
      " '2, \"id\": 169676, \"name\": \"Jon Curry\", \"order\": 24}, {\"cast_id\": 46, '\n",
      " '\"character\": \"Ambient Room Tech\", \"credit_id\": \"52fe48009251416c750aca8f\", '\n",
      " '\"gender\": 0, \"id\": 1048610, \"name\": \"Luke Hawker\", \"order\": 25}, {\"cast_id\": '\n",
      " '47, \"character\": \"Ambient Room Tech / Troupe\", \"credit_id\": '\n",
      " '\"52fe48009251416c750aca93\", \"gender\": 0, \"id\": 42288, \"name\": \"Woody '\n",
      " 'Schultz\", \"order\": 26}, {\"cast_id\": 48, \"character\": \"Horse Clan Leader\", '\n",
      " '\"credit_id\": \"52fe48009251416c750aca97\", \"gender\": 2, \"id\": 68278, \"name\": '\n",
      " '\"Peter Mensah\", \"order\": 27}, {\"cast_id\": 49, \"character\": \"Link Room Tech\", '\n",
      " '\"credit_id\": \"52fe48009251416c750aca9b\", \"gender\": 0, \"id\": 1207247, \"name\": '\n",
      " '\"Sonia Yee\", \"order\": 28}, {\"cast_id\": 50, \"character\": \"Basketball Avatar / '\n",
      " 'Troupe\", \"credit_id\": \"52fe48009251416c750aca9f\", \"gender\": 1, \"id\": '\n",
      " '1207248, \"name\": \"Jahnel Curfman\", \"order\": 29}, {\"cast_id\": 51, '\n",
      " '\"character\": \"Basketball Avatar\", \"credit_id\": \"52fe48009251416c750acaa3\", '\n",
      " '\"gender\": 0, \"id\": 89714, \"name\": \"Ilram Choi\", \"order\": 30}, {\"cast_id\": '\n",
      " '52, \"character\": \"Na\\'vi Child\", \"credit_id\": \"52fe48009251416c750acaa7\", '\n",
      " '\"gender\": 0, \"id\": 1207249, \"name\": \"Kyla Warren\", \"order\": 31}, {\"cast_id\": '\n",
      " '53, \"character\": \"Troupe\", \"credit_id\": \"52fe48009251416c750acaab\", '\n",
      " '\"gender\": 0, \"id\": 1207250, \"name\": \"Lisa Roumain\", \"order\": 32}, '\n",
      " '{\"cast_id\": 54, \"character\": \"Troupe\", \"credit_id\": '\n",
      " '\"52fe48009251416c750acaaf\", \"gender\": 1, \"id\": 83105, \"name\": \"Debra '\n",
      " 'Wilson\", \"order\": 33}, {\"cast_id\": 57, \"character\": \"Troupe\", \"credit_id\": '\n",
      " '\"52fe48009251416c750acabb\", \"gender\": 0, \"id\": 1207253, \"name\": \"Chris '\n",
      " 'Mala\", \"order\": 34}, {\"cast_id\": 55, \"character\": \"Troupe\", \"credit_id\": '\n",
      " '\"52fe48009251416c750acab3\", \"gender\": 0, \"id\": 1207251, \"name\": \"Taylor '\n",
      " 'Kibby\", \"order\": 35}, {\"cast_id\": 56, \"character\": \"Troupe\", \"credit_id\": '\n",
      " '\"52fe48009251416c750acab7\", \"gender\": 0, \"id\": 1207252, \"name\": \"Jodie '\n",
      " 'Landau\", \"order\": 36}, {\"cast_id\": 58, \"character\": \"Troupe\", \"credit_id\": '\n",
      " '\"52fe48009251416c750acabf\", \"gender\": 0, \"id\": 1207254, \"name\": \"Julie '\n",
      " 'Lamm\", \"order\": 37}, {\"cast_id\": 59, \"character\": \"Troupe\", \"credit_id\": '\n",
      " '\"52fe48009251416c750acac3\", \"gender\": 0, \"id\": 1207257, \"name\": \"Cullen B. '\n",
      " 'Madden\", \"order\": 38}, {\"cast_id\": 60, \"character\": \"Troupe\", \"credit_id\": '\n",
      " '\"52fe48009251416c750acac7\", \"gender\": 0, \"id\": 1207259, \"name\": \"Joseph '\n",
      " 'Brady Madden\", \"order\": 39}, {\"cast_id\": 61, \"character\": \"Troupe\", '\n",
      " '\"credit_id\": \"52fe48009251416c750acacb\", \"gender\": 0, \"id\": 1207262, \"name\": '\n",
      " '\"Frankie Torres\", \"order\": 40}, {\"cast_id\": 62, \"character\": \"Troupe\", '\n",
      " '\"credit_id\": \"52fe48009251416c750acacf\", \"gender\": 1, \"id\": 1158600, \"name\": '\n",
      " '\"Austin Wilson\", \"order\": 41}, {\"cast_id\": 63, \"character\": \"Troupe\", '\n",
      " '\"credit_id\": \"52fe48019251416c750acad3\", \"gender\": 1, \"id\": 983705, \"name\": '\n",
      " '\"Sara Wilson\", \"order\": 42}, {\"cast_id\": 64, \"character\": \"Troupe\", '\n",
      " '\"credit_id\": \"52fe48019251416c750acad7\", \"gender\": 0, \"id\": 1207263, \"name\": '\n",
      " '\"Tamica Washington-Miller\", \"order\": 43}, {\"cast_id\": 65, \"character\": \"Op '\n",
      " 'Center Staff\", \"credit_id\": \"52fe48019251416c750acadb\", \"gender\": 1, \"id\": '\n",
      " '1145098, \"name\": \"Lucy Briant\", \"order\": 44}, {\"cast_id\": 66, \"character\": '\n",
      " '\"Op Center Staff\", \"credit_id\": \"52fe48019251416c750acadf\", \"gender\": 2, '\n",
      " '\"id\": 33305, \"name\": \"Nathan Meister\", \"order\": 45}, {\"cast_id\": 67, '\n",
      " '\"character\": \"Op Center Staff\", \"credit_id\": \"52fe48019251416c750acae3\", '\n",
      " '\"gender\": 0, \"id\": 1207264, \"name\": \"Gerry Blair\", \"order\": 46}, {\"cast_id\": '\n",
      " '68, \"character\": \"Op Center Staff\", \"credit_id\": \"52fe48019251416c750acae7\", '\n",
      " '\"gender\": 2, \"id\": 33311, \"name\": \"Matthew Chamberlain\", \"order\": 47}, '\n",
      " '{\"cast_id\": 69, \"character\": \"Op Center Staff\", \"credit_id\": '\n",
      " '\"52fe48019251416c750acaeb\", \"gender\": 0, \"id\": 1207265, \"name\": \"Paul '\n",
      " 'Yates\", \"order\": 48}, {\"cast_id\": 70, \"character\": \"Op Center Duty Officer\", '\n",
      " '\"credit_id\": \"52fe48019251416c750acaef\", \"gender\": 0, \"id\": 1207266, \"name\": '\n",
      " '\"Wray Wilson\", \"order\": 49}, {\"cast_id\": 71, \"character\": \"Op Center Staff\", '\n",
      " '\"credit_id\": \"52fe48019251416c750acaf3\", \"gender\": 2, \"id\": 54492, \"name\": '\n",
      " '\"James Gaylyn\", \"order\": 50}, {\"cast_id\": 72, \"character\": \"Dancer\", '\n",
      " '\"credit_id\": \"52fe48019251416c750acaf7\", \"gender\": 0, \"id\": 1207267, \"name\": '\n",
      " '\"Melvin Leno Clark III\", \"order\": 51}, {\"cast_id\": 73, \"character\": '\n",
      " '\"Dancer\", \"credit_id\": \"52fe48019251416c750acafb\", \"gender\": 0, \"id\": '\n",
      " '1207268, \"name\": \"Carvon Futrell\", \"order\": 52}, {\"cast_id\": 74, '\n",
      " '\"character\": \"Dancer\", \"credit_id\": \"52fe48019251416c750acaff\", \"gender\": 0, '\n",
      " '\"id\": 1207269, \"name\": \"Brandon Jelkes\", \"order\": 53}, {\"cast_id\": 75, '\n",
      " '\"character\": \"Dancer\", \"credit_id\": \"52fe48019251416c750acb03\", \"gender\": 0, '\n",
      " '\"id\": 1207270, \"name\": \"Micah Moch\", \"order\": 54}, {\"cast_id\": 76, '\n",
      " '\"character\": \"Dancer\", \"credit_id\": \"52fe48019251416c750acb07\", \"gender\": 0, '\n",
      " '\"id\": 1207271, \"name\": \"Hanniyah Muhammad\", \"order\": 55}, {\"cast_id\": 77, '\n",
      " '\"character\": \"Dancer\", \"credit_id\": \"52fe48019251416c750acb0b\", \"gender\": 0, '\n",
      " '\"id\": 1207272, \"name\": \"Christopher Nolen\", \"order\": 56}, {\"cast_id\": 78, '\n",
      " '\"character\": \"Dancer\", \"credit_id\": \"52fe48019251416c750acb0f\", \"gender\": 0, '\n",
      " '\"id\": 1207273, \"name\": \"Christa Oliver\", \"order\": 57}, {\"cast_id\": 79, '\n",
      " '\"character\": \"Dancer\", \"credit_id\": \"52fe48019251416c750acb13\", \"gender\": 0, '\n",
      " '\"id\": 1207274, \"name\": \"April Marie Thomas\", \"order\": 58}, {\"cast_id\": 80, '\n",
      " '\"character\": \"Dancer\", \"credit_id\": \"52fe48019251416c750acb17\", \"gender\": 0, '\n",
      " '\"id\": 1207275, \"name\": \"Bravita A. Threatt\", \"order\": 59}, {\"cast_id\": 81, '\n",
      " '\"character\": \"Mining Chief (uncredited)\", \"credit_id\": '\n",
      " '\"52fe48019251416c750acb1b\", \"gender\": 0, \"id\": 1207276, \"name\": \"Colin '\n",
      " 'Bleasdale\", \"order\": 60}, {\"cast_id\": 82, \"character\": \"Veteran Miner '\n",
      " '(uncredited)\", \"credit_id\": \"52fe48019251416c750acb1f\", \"gender\": 0, \"id\": '\n",
      " '107969, \"name\": \"Mike Bodnar\", \"order\": 61}, {\"cast_id\": 83, \"character\": '\n",
      " '\"Richard (uncredited)\", \"credit_id\": \"52fe48019251416c750acb23\", \"gender\": '\n",
      " '0, \"id\": 1207278, \"name\": \"Matt Clayton\", \"order\": 62}, {\"cast_id\": 84, '\n",
      " '\"character\": \"Nav\\'i (uncredited)\", \"credit_id\": \"52fe48019251416c750acb27\", '\n",
      " '\"gender\": 1, \"id\": 147898, \"name\": \"Nicole Dionne\", \"order\": 63}, '\n",
      " '{\"cast_id\": 85, \"character\": \"Trooper (uncredited)\", \"credit_id\": '\n",
      " '\"52fe48019251416c750acb2b\", \"gender\": 0, \"id\": 1207280, \"name\": \"Jamie '\n",
      " 'Harrison\", \"order\": 64}, {\"cast_id\": 86, \"character\": \"Trooper '\n",
      " '(uncredited)\", \"credit_id\": \"52fe48019251416c750acb2f\", \"gender\": 0, \"id\": '\n",
      " '1207281, \"name\": \"Allan Henry\", \"order\": 65}, {\"cast_id\": 87, \"character\": '\n",
      " '\"Ground Technician (uncredited)\", \"credit_id\": \"52fe48019251416c750acb33\", '\n",
      " '\"gender\": 2, \"id\": 1207282, \"name\": \"Anthony Ingruber\", \"order\": 66}, '\n",
      " '{\"cast_id\": 88, \"character\": \"Flight Crew Mechanic (uncredited)\", '\n",
      " '\"credit_id\": \"52fe48019251416c750acb37\", \"gender\": 0, \"id\": 1207283, \"name\": '\n",
      " '\"Ashley Jeffery\", \"order\": 67}, {\"cast_id\": 14, \"character\": \"Samson Pilot\", '\n",
      " '\"credit_id\": \"52fe48009251416c750ac9f9\", \"gender\": 0, \"id\": 98216, \"name\": '\n",
      " '\"Dean Knowsley\", \"order\": 68}, {\"cast_id\": 89, \"character\": \"Trooper '\n",
      " '(uncredited)\", \"credit_id\": \"52fe48019251416c750acb3b\", \"gender\": 0, \"id\": '\n",
      " '1201399, \"name\": \"Joseph Mika-Hunt\", \"order\": 69}, {\"cast_id\": 90, '\n",
      " '\"character\": \"Banshee (uncredited)\", \"credit_id\": '\n",
      " '\"52fe48019251416c750acb3f\", \"gender\": 0, \"id\": 236696, \"name\": \"Terry '\n",
      " 'Notary\", \"order\": 70}, {\"cast_id\": 91, \"character\": \"Soldier (uncredited)\", '\n",
      " '\"credit_id\": \"52fe48019251416c750acb43\", \"gender\": 0, \"id\": 1207287, \"name\": '\n",
      " '\"Kai Pantano\", \"order\": 71}, {\"cast_id\": 92, \"character\": \"Blast Technician '\n",
      " '(uncredited)\", \"credit_id\": \"52fe48019251416c750acb47\", \"gender\": 0, \"id\": '\n",
      " '1207288, \"name\": \"Logan Pithyou\", \"order\": 72}, {\"cast_id\": 93, \"character\": '\n",
      " '\"Vindum Raah (uncredited)\", \"credit_id\": \"52fe48019251416c750acb4b\", '\n",
      " '\"gender\": 0, \"id\": 1207289, \"name\": \"Stuart Pollock\", \"order\": 73}, '\n",
      " '{\"cast_id\": 94, \"character\": \"Hero (uncredited)\", \"credit_id\": '\n",
      " '\"52fe48019251416c750acb4f\", \"gender\": 0, \"id\": 584868, \"name\": \"Raja\", '\n",
      " '\"order\": 74}, {\"cast_id\": 95, \"character\": \"Ops Centreworker (uncredited)\", '\n",
      " '\"credit_id\": \"52fe48019251416c750acb53\", \"gender\": 0, \"id\": 1207290, \"name\": '\n",
      " '\"Gareth Ruck\", \"order\": 75}, {\"cast_id\": 96, \"character\": \"Engineer '\n",
      " '(uncredited)\", \"credit_id\": \"52fe48019251416c750acb57\", \"gender\": 0, \"id\": '\n",
      " '1062463, \"name\": \"Rhian Sheehan\", \"order\": 76}, {\"cast_id\": 97, \"character\": '\n",
      " '\"Col. Quaritch\\'s Mech Suit (uncredited)\", \"credit_id\": '\n",
      " '\"52fe48019251416c750acb5b\", \"gender\": 0, \"id\": 60656, \"name\": \"T. J. Storm\", '\n",
      " '\"order\": 77}, {\"cast_id\": 98, \"character\": \"Female Marine (uncredited)\", '\n",
      " '\"credit_id\": \"52fe48019251416c750acb5f\", \"gender\": 0, \"id\": 1207291, \"name\": '\n",
      " '\"Jodie Taylor\", \"order\": 78}, {\"cast_id\": 99, \"character\": \"Ikran Clan '\n",
      " 'Leader (uncredited)\", \"credit_id\": \"52fe48019251416c750acb63\", \"gender\": 1, '\n",
      " '\"id\": 1186027, \"name\": \"Alicia Vela-Bailey\", \"order\": 79}, {\"cast_id\": 100, '\n",
      " '\"character\": \"Geologist (uncredited)\", \"credit_id\": '\n",
      " '\"52fe48019251416c750acb67\", \"gender\": 0, \"id\": 1207292, \"name\": \"Richard '\n",
      " 'Whiteside\", \"order\": 80}, {\"cast_id\": 101, \"character\": \"Na\\'vi '\n",
      " '(uncredited)\", \"credit_id\": \"52fe48019251416c750acb6b\", \"gender\": 0, \"id\": '\n",
      " '103259, \"name\": \"Nikie Zambo\", \"order\": 81}, {\"cast_id\": 102, \"character\": '\n",
      " '\"Ambient Room Tech / Troupe\", \"credit_id\": \"52fe48019251416c750acb6f\", '\n",
      " '\"gender\": 1, \"id\": 42286, \"name\": \"Julene Renee\", \"order\": 82}]')\n"
     ]
    }
   ],
   "source": [
    "pprint(credit['cast'][0])"
   ]
  },
  {
   "cell_type": "code",
   "execution_count": null,
   "metadata": {},
   "outputs": [],
   "source": []
  },
  {
   "cell_type": "code",
   "execution_count": null,
   "metadata": {},
   "outputs": [],
   "source": []
  },
  {
   "cell_type": "code",
   "execution_count": null,
   "metadata": {},
   "outputs": [],
   "source": []
  }
 ],
 "metadata": {
  "kernelspec": {
   "display_name": "Python 3",
   "language": "python",
   "name": "python3"
  },
  "language_info": {
   "codemirror_mode": {
    "name": "ipython",
    "version": 3
   },
   "file_extension": ".py",
   "mimetype": "text/x-python",
   "name": "python",
   "nbconvert_exporter": "python",
   "pygments_lexer": "ipython3",
   "version": "3.11.1"
  }
 },
 "nbformat": 4,
 "nbformat_minor": 2
}
